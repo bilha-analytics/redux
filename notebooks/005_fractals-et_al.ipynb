{
 "cells": [
  {
   "cell_type": "raw",
   "metadata": {},
   "source": [
    "<script>\n",
    "code_show=true; \n",
    "function code_toggle() {\n",
    " if (code_show){\n",
    " $('div.input').hide();\n",
    " } else {\n",
    " $('div.input').show();\n",
    " }\n",
    " code_show = !code_show\n",
    "} \n",
    "$( document ).ready(code_toggle);\n",
    "\n",
    "</script>\n",
    "<a href=\"javascript:code_toggle()\">Show/Hide Code</a>. "
   ]
  },
  {
   "cell_type": "code",
   "execution_count": 1,
   "metadata": {},
   "outputs": [],
   "source": [
    "%run \"../../shared/utilz_includez.ipynb\""
   ]
  },
  {
   "cell_type": "markdown",
   "metadata": {},
   "source": [
    "# Fractals et al \n",
    "\n",
    "- Gist @ recursion \n"
   ]
  },
  {
   "cell_type": "code",
   "execution_count": 2,
   "metadata": {},
   "outputs": [],
   "source": [
    "import turtle \n",
    "import numba ## for speed\n",
    "import time, threading"
   ]
  },
  {
   "cell_type": "markdown",
   "metadata": {},
   "source": [
    "## 1. Mandelbrot"
   ]
  },
  {
   "cell_type": "markdown",
   "metadata": {},
   "source": [
    "# 2. Fractals"
   ]
  },
  {
   "cell_type": "code",
   "execution_count": 3,
   "metadata": {},
   "outputs": [],
   "source": [
    "wind = turtle.Screen()\n",
    "pen = turtle.Pen()\n",
    "\n",
    "def draw_fract(length, depth):\n",
    "    pen.forward(length)\n",
    "    if depth > 1:\n",
    "        pen.backward( length/2 )\n",
    "        pen.left(90)\n",
    "        draw_fract(length/2.1, depth-1)\n",
    "        pen.right( 180 )        \n",
    "        draw_fract(length/2.1, depth-1)\n",
    "        pen.right( 90 )\n",
    "        pen.forward( length/2 )\n",
    "        \n",
    "    pen.right( 180 )\n",
    "    pen.forward( length )\n",
    "    #time.sleep(3)\n",
    "     \n",
    "\n",
    "pen.speed(0)\n",
    "pen.penup() ## don't draw yet \n",
    "pen.goto(-400, 0) ## start at boottom \n",
    "pen.pendown()\n",
    "\n",
    "draw_fract(800, 8)\n",
    "pen.right( 180 )\n",
    "draw_fract(800, 8)\n",
    "\n",
    "turtle.exitonclick()"
   ]
  },
  {
   "cell_type": "code",
   "execution_count": null,
   "metadata": {},
   "outputs": [],
   "source": []
  },
  {
   "cell_type": "code",
   "execution_count": null,
   "metadata": {},
   "outputs": [],
   "source": []
  },
  {
   "cell_type": "code",
   "execution_count": null,
   "metadata": {},
   "outputs": [],
   "source": []
  }
 ],
 "metadata": {
  "kernelspec": {
   "display_name": "Python 3",
   "language": "python",
   "name": "python3"
  },
  "language_info": {
   "codemirror_mode": {
    "name": "ipython",
    "version": 3
   },
   "file_extension": ".py",
   "mimetype": "text/x-python",
   "name": "python",
   "nbconvert_exporter": "python",
   "pygments_lexer": "ipython3",
   "version": "3.7.6"
  }
 },
 "nbformat": 4,
 "nbformat_minor": 4
}
