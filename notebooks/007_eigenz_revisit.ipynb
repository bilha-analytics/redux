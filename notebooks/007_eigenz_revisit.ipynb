{
 "cells": [
  {
   "cell_type": "raw",
   "metadata": {},
   "source": [
    "<script>\n",
    "code_show=true; \n",
    "function code_toggle() {\n",
    " if (code_show){\n",
    " $('div.input').hide();\n",
    " } else {\n",
    " $('div.input').show();\n",
    " }\n",
    " code_show = !code_show\n",
    "} \n",
    "$( document ).ready(code_toggle);\n",
    "</script>\n",
    "<a href=\"javascript:code_toggle()\">Show/Hide Code</a>."
   ]
  },
  {
   "cell_type": "code",
   "execution_count": 3,
   "metadata": {},
   "outputs": [],
   "source": [
    "%run \"../../shared/utilz_includez.ipynb\""
   ]
  },
  {
   "cell_type": "code",
   "execution_count": 14,
   "metadata": {},
   "outputs": [],
   "source": [
    "from numpy import linalg"
   ]
  },
  {
   "cell_type": "markdown",
   "metadata": {},
   "source": [
    "## Eigenvalues and EigenVectors\n",
    "- if $A$ is an $n x n$ matrix, then $l$ is an eigenvalue of $A$ if there's a non-zero vector $\\mathbf{x}$ such that $A\\mathbf{x} = l\\mathbf{x}$\n",
    "    - Scalar $l$ is the eigenvalue and $ l = \\mathbf{x}^{-1} A \\mathbf{x} $\n",
    "    - Vector $\\mathbf{x}$ is an eigenvector of $A$ corresponding to $l$\n",
    "    - Matrix $A$ can have other eigenvalues and corresponding eigenvectors. \n",
    "    - Any non-zero multiples of $\\mathbf{x}$ are also eigenvectors corresponding to $l$. I.E. $ A (k\\mathbf{x}) = l (k\\mathbf{x})$ and so scalar $k$ clears on both sides. \n",
    "    \n",
    "    \n",
    "\n",
    "- Given $A$ you can derive the family of eigenvectors for A using the property that non-invertible matrices have determinant equal to zero\n",
    "\n",
    "$$A\\mathbf{x} = l \\mathbf{x} = l I \\mathbf{x}$$\n",
    "$$A\\mathbf{x} - l I \\mathbf{x} = 0$$\n",
    "$$(A - l I) \\mathbf{x} = 0$$    \n",
    "$$ det(A - lI) = 0$$\n",
    "\n",
    "\n",
    "- So the determintant of $ A \\mathbf{x} - l I $ is zero and can solve for $l$\n",
    "    - if A is $2 x 2$ matrix then $(a - l)(d - l) - (c d) = 0$  \n",
    "    - Then plug back and solve the quadratic for $l$ and the system of equations for $\\mathbf{x}$\n",
    "    \n",
    "    \n",
    "**Related or prerquisite topics**\n",
    "- Linear transformations - Vectors and matrices as linear transformations \n",
    "- Change of basis \n",
    "- Determinants \n",
    "- Linear systems of equations \n",
    "    \n",
    "**Applications**\n",
    "- Recall: A matrix is a linear transformation and so an eigenvector only gets scaled (by the eigenvalue) and in same direction by that  matri x and nothing else. Eigenvectors do not get knocked off their span (will not get rotated). They provide the axis of rotation??\n",
    "\n",
    "- So eigenvectors have the same ratio of the axis/dimensions/variables in use when looking at relationships between variables\n",
    "\n",
    "- \n",
    " "
   ]
  },
  {
   "cell_type": "code",
   "execution_count": 6,
   "metadata": {},
   "outputs": [
    {
     "name": "stdout",
     "output_type": "stream",
     "text": [
      "Vector x = [2 1]\n",
      "Matrix A = \n",
      "[[ 3  2]\n",
      " [ 3 -2]]\n"
     ]
    }
   ],
   "source": [
    "x = np.array([2, 1])\n",
    "A = np.array( [ [3,2], [3, -2] ] )\n",
    "\n",
    "print( f\"Vector x = {x}\" )\n",
    "print( f\"Matrix A = \\n{A}\" )"
   ]
  },
  {
   "cell_type": "code",
   "execution_count": 34,
   "metadata": {},
   "outputs": [
    {
     "name": "stdout",
     "output_type": "stream",
     "text": [
      "A * x = \n",
      "[[ 6  2]\n",
      " [ 6 -2]] <<< This is wrong\n",
      "\n",
      "A.dot(x) = \n",
      "[8 4]\n",
      "\n",
      "A @ x = \n",
      "[8 4]\n",
      "\n",
      "Eigenvalue corresponding to x is: 4 \n"
     ]
    }
   ],
   "source": [
    "print( f\"A * x = \\n{A*x } <<< This is wrong\")\n",
    "\n",
    "print( f\"\\nA.dot(x) = \\n{A.dot(x) }\")\n",
    "\n",
    "print( f\"\\nA @ x = \\n{A @ x }\")\n",
    "\n",
    "d = A @ x \n",
    "\n",
    "print( f\"\\nEigenvalue corresponding to x is: { np.reciprocal(x)  @ d } \")"
   ]
  },
  {
   "cell_type": "code",
   "execution_count": 44,
   "metadata": {},
   "outputs": [
    {
     "name": "stdout",
     "output_type": "stream",
     "text": [
      "\n",
      "multiplier: 25 ==> [50 25]\n",
      "\n",
      "A @ mulitple of x = [200 100]\n",
      "\n",
      "Eigenvalue corresponding to miltiple.x is: 8.0\n"
     ]
    }
   ],
   "source": [
    "## Multiples of x are also eigenvectors of A corresponding to the same eigenvalue\n",
    "k = 25\n",
    "print( f\"\\nmultiplier: {k} ==> { k*x}\")\n",
    "\n",
    "d = A @ (k*x) \n",
    "print( f\"\\nA @ mulitple of x = { d }\")\n",
    "\n",
    "print( f\"\\nEigenvalue corresponding to miltiple.x is: { 1./(k*x) @ d }\")"
   ]
  },
  {
   "cell_type": "markdown",
   "metadata": {},
   "source": [
    "### Given A matrix $A$ find it's eigenvalues and eigenvectors"
   ]
  },
  {
   "cell_type": "code",
   "execution_count": null,
   "metadata": {},
   "outputs": [],
   "source": []
  }
 ],
 "metadata": {
  "kernelspec": {
   "display_name": "Python 3",
   "language": "python",
   "name": "python3"
  },
  "language_info": {
   "codemirror_mode": {
    "name": "ipython",
    "version": 3
   },
   "file_extension": ".py",
   "mimetype": "text/x-python",
   "name": "python",
   "nbconvert_exporter": "python",
   "pygments_lexer": "ipython3",
   "version": "3.7.6"
  }
 },
 "nbformat": 4,
 "nbformat_minor": 4
}
